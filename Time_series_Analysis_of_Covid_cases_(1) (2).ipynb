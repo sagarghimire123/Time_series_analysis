{
  "nbformat": 4,
  "nbformat_minor": 0,
  "metadata": {
    "colab": {
      "name": "Time_series_Analysis_of_Covid_cases (1).ipynb",
      "provenance": [],
      "collapsed_sections": []
    },
    "kernelspec": {
      "name": "python3",
      "display_name": "Python 3"
    },
    "language_info": {
      "name": "python"
    }
  },
  "cells": [
    {
      "cell_type": "code",
      "metadata": {
        "id": "Mhj1y80Xel3n"
      },
      "source": [
        "#  You code here"
      ],
      "execution_count": null,
      "outputs": []
    },
    {
      "cell_type": "code",
      "metadata": {
        "id": "lGfFKnBYBX60"
      },
      "source": [
        "\n",
        "import pandas as pd\n",
        "import numpy as np"
      ],
      "execution_count": null,
      "outputs": []
    },
    {
      "cell_type": "code",
      "metadata": {
        "id": "Mt4LCKXXBhNc"
      },
      "source": [
        "# Uploading the data set\n",
        "!curl https://data.cityofnewyork.us/resource/rc75-m7u3.csv -o m7u3.csv"
      ],
      "execution_count": null,
      "outputs": []
    },
    {
      "cell_type": "code",
      "metadata": {
        "id": "sjZdbX1kBlED"
      },
      "source": [
        "# Converting into data frame and checking the shape of data set\n",
        "Covid=pd.read_csv(\"m7u3.csv\")\n",
        "Covid.dropna(inplace=True)\n",
        "Covid.shape"
      ],
      "execution_count": null,
      "outputs": []
    },
    {
      "cell_type": "code",
      "metadata": {
        "id": "0nm2PhE0B5wc"
      },
      "source": [
        "# Printing data set head\n",
        "Covid.head(1)"
      ],
      "execution_count": null,
      "outputs": []
    },
    {
      "cell_type": "code",
      "metadata": {
        "id": "lkhstx8OCZOf"
      },
      "source": [
        ""
      ],
      "execution_count": null,
      "outputs": []
    },
    {
      "cell_type": "code",
      "metadata": {
        "id": "FMn4MzzLCZr5"
      },
      "source": [
        "\n",
        "Covid.dtypes"
      ],
      "execution_count": null,
      "outputs": []
    },
    {
      "cell_type": "markdown",
      "metadata": {
        "id": "1KLTIDGrFUrW"
      },
      "source": [
        "Answer: The data set cannot be treated as time series right the way because the data type of data is object. We need to convert date to datetime format."
      ]
    },
    {
      "cell_type": "code",
      "metadata": {
        "id": "dUKDtjcMFP2y"
      },
      "source": [
        "# Converting date to datetime fomrat\n",
        "Covid[\"date_of_interest\"]=pd.to_datetime(Covid[\"date_of_interest\"])"
      ],
      "execution_count": null,
      "outputs": []
    },
    {
      "cell_type": "code",
      "metadata": {
        "id": "NT30qP2uJRw4"
      },
      "source": [
        "Covid.dtypes"
      ],
      "execution_count": null,
      "outputs": []
    },
    {
      "cell_type": "code",
      "metadata": {
        "id": "8_TsXG_pDsys"
      },
      "source": [
        "# Printing new data frame with datetime format\n",
        "Covid"
      ],
      "execution_count": null,
      "outputs": []
    },
    {
      "cell_type": "code",
      "metadata": {
        "id": "plWJc_tSJlTt"
      },
      "source": [
        ""
      ],
      "execution_count": null,
      "outputs": []
    },
    {
      "cell_type": "code",
      "metadata": {
        "id": "uw6tII5sDcfv"
      },
      "source": [
        ""
      ],
      "execution_count": null,
      "outputs": []
    },
    {
      "cell_type": "code",
      "metadata": {
        "id": "t54Ve6aFJmp_"
      },
      "source": [
        "import matplotlib.pyplot as plt\n",
        "%matplotlib inline\n",
        "from matplotlib.pylab import rcParams"
      ],
      "execution_count": null,
      "outputs": []
    },
    {
      "cell_type": "code",
      "metadata": {
        "id": "OBvdJp0mJpEP"
      },
      "source": [
        "# Changing column name 'case_count' to 'CASE_COUNT'\n",
        "Covid_case_count=Covid[[\"date_of_interest\", \"case_count\"]]\n",
        "Covid_case_count.rename(columns={\"case_count\": \"CASE_COUNT\"}, inplace=True)\n",
        "Covid_case_count"
      ],
      "execution_count": null,
      "outputs": []
    },
    {
      "cell_type": "code",
      "metadata": {
        "id": "VhoVWeYgQ1hp"
      },
      "source": [
        "# Converting CASE_COUNT to numeric type and setting date as index and printing data frame CC\n",
        "Covid_case_count[\"CASE_COUNT\"]=pd.to_numeric(Covid_case_count[\"CASE_COUNT\"])\n",
        "Covid_case_count.set_index(\"date_of_interest\", inplace=True)\n",
        "CC=Covid_case_count[\"2020-03-01\":\"2020-05-31\"]\n",
        "CC"
      ],
      "execution_count": null,
      "outputs": []
    },
    {
      "cell_type": "code",
      "metadata": {
        "id": "4LokgvR2Rjx6"
      },
      "source": [
        "# plotting the data set\n",
        "CC.plot()\n",
        "plt.show()"
      ],
      "execution_count": null,
      "outputs": []
    },
    {
      "cell_type": "code",
      "metadata": {
        "id": "pj-xTVyiDtQy"
      },
      "source": [
        ""
      ],
      "execution_count": null,
      "outputs": []
    },
    {
      "cell_type": "code",
      "metadata": {
        "id": "ZBYX8YxGDhdc"
      },
      "source": [
        ""
      ],
      "execution_count": null,
      "outputs": []
    },
    {
      "cell_type": "code",
      "metadata": {
        "id": "GwrK-ma6YnSR"
      },
      "source": [
        "# Taking rolling avg over 5 days \n",
        "CC[\"rolling_avg_5_days\"]= CC.CASE_COUNT.rolling(5).mean()\n",
        "CC.head(10)"
      ],
      "execution_count": null,
      "outputs": []
    },
    {
      "cell_type": "code",
      "metadata": {
        "id": "1TwFiiYhgbw5"
      },
      "source": [
        "CC.plot()\n",
        "rcParams['figure.figsize']=10,4\n",
        "plt.show()"
      ],
      "execution_count": null,
      "outputs": []
    },
    {
      "cell_type": "code",
      "metadata": {
        "id": "DSAM8YX_ViY0"
      },
      "source": [
        ""
      ],
      "execution_count": null,
      "outputs": []
    },
    {
      "cell_type": "code",
      "metadata": {
        "id": "SEoZJc_dDked"
      },
      "source": [
        ""
      ],
      "execution_count": null,
      "outputs": []
    },
    {
      "cell_type": "code",
      "metadata": {
        "id": "D2RZjNSbDt9x"
      },
      "source": [
        "#Calculating the rolling avg for desired days.\n",
        "CM=Covid_case_count\n",
        "CM[\"rolling_avg_2_days\"]= CM.CASE_COUNT.rolling(2).mean()\n",
        "CM[\"rolling_avg_7_days\"]= CM.CASE_COUNT.rolling(7).mean()\n",
        "CM[\"rolling_avg_20_days\"]= CM.CASE_COUNT.rolling(20).mean()\n",
        "CM[\"rolling_avg_50_days\"]= CM.CASE_COUNT.rolling(50).mean()\n",
        "CM[\"rolling_avg_100_days\"]= CM.CASE_COUNT.rolling(100).mean()\n",
        "\n"
      ],
      "execution_count": null,
      "outputs": []
    },
    {
      "cell_type": "code",
      "metadata": {
        "id": "-6WgZWhI52wR"
      },
      "source": [
        "CM"
      ],
      "execution_count": null,
      "outputs": []
    },
    {
      "cell_type": "code",
      "metadata": {
        "id": "SoCjW_V1xVLz"
      },
      "source": [
        "#Plotting\n",
        "CM.plot()\n",
        "rcParams['figure.figsize']=10,4\n",
        "plt.show()\n"
      ],
      "execution_count": null,
      "outputs": []
    },
    {
      "cell_type": "markdown",
      "metadata": {
        "id": "3gi2BkGbjoTQ"
      },
      "source": [
        "I "
      ]
    },
    {
      "cell_type": "code",
      "metadata": {
        "id": "qVXBCe5ovqp8"
      },
      "source": [
        ""
      ],
      "execution_count": null,
      "outputs": []
    },
    {
      "cell_type": "markdown",
      "metadata": {
        "id": "t2_AUXx7jWFt"
      },
      "source": [
        ""
      ]
    },
    {
      "cell_type": "code",
      "metadata": {
        "id": "VvhEPBjq1WQk"
      },
      "source": [
        "# Making data frame with date, case_count and 3 selected attributes.\n",
        "QN=Covid[[\"date_of_interest\", \"qn_case_count\", \"qn_case_count_7day_avg\",\"qn_hospitalized_count\",\"qn_hospitalized_count_7day_avg\",\"qn_death_count\",\"qn_death_count_7day_avg\"]]"
      ],
      "execution_count": null,
      "outputs": []
    },
    {
      "cell_type": "code",
      "metadata": {
        "id": "LdO6Wi73v3bP"
      },
      "source": [
        "# Changing the name of 3 selected attributes in capital letter.\n",
        "QN.rename(columns={\"qn_case_count_7day_avg\":\"QN_BOROUGH_CASE_COUNT_7DAY_AVG\",\n",
        "                       \"qn_hospitalized_count_7day_avg\":\"QN_BOROUGH_HOSPITALIZED_COUNT_7DAY_AVG\", \n",
        "                       \"qn_death_count_7day_avg\":\"QN_BOROUGH_DEATH_COUNT_7DAY_AVG\"},\n",
        "              inplace=True)"
      ],
      "execution_count": null,
      "outputs": []
    },
    {
      "cell_type": "code",
      "metadata": {
        "id": "P0afh13k2q2W"
      },
      "source": [
        "# Display the data set for Queens.\n",
        "QN"
      ],
      "execution_count": null,
      "outputs": []
    },
    {
      "cell_type": "code",
      "metadata": {
        "id": "87rCiCRmDux9"
      },
      "source": [
        "#Making seperate data frame for each attributes for plotting.\n",
        "QN1=QN[[\"date_of_interest\",\"qn_case_count\",\"QN_BOROUGH_CASE_COUNT_7DAY_AVG\"]]\n",
        "QN2=QN[[\"date_of_interest\",\"qn_hospitalized_count\",\"QN_BOROUGH_HOSPITALIZED_COUNT_7DAY_AVG\"]]\n",
        "QN3=QN[[\"date_of_interest\",\"qn_death_count\",\"QN_BOROUGH_DEATH_COUNT_7DAY_AVG\"]]\n",
        "\n",
        "\n",
        "\n"
      ],
      "execution_count": null,
      "outputs": []
    },
    {
      "cell_type": "code",
      "metadata": {
        "id": "G2FqVx650__C"
      },
      "source": [
        "# Setting date as index.\n",
        "QN1.set_index(\"date_of_interest\",inplace=True)\n",
        "QN2.set_index(\"date_of_interest\",inplace=True)\n",
        "QN3.set_index(\"date_of_interest\",inplace=True)\n",
        "\n"
      ],
      "execution_count": null,
      "outputs": []
    },
    {
      "cell_type": "code",
      "metadata": {
        "id": "U7jMRjDM3bKT"
      },
      "source": [
        "#Plotting all 3 charts.\n",
        "QN1.plot()\n",
        "QN2.plot()\n",
        "QN3.plot()\n",
        "rcParams['figure.figsize']=10,4\n",
        "plt.show()"
      ],
      "execution_count": null,
      "outputs": []
    },
    {
      "cell_type": "markdown",
      "metadata": {
        "id": "UtxqL0SRB1dE"
      },
      "source": [
        "(Answer): The first chart shows the 7 days average of covid cases which tells that covid cases were raising during the week of march and april in 2020 and october 2020 to january 2021.\n",
        "\n",
        "The second chart shows the seven days hospitalized count which tells that more peole were admitted to hospital in queens during the week of high covid cases in 2020 which are march and april and slowly it started to decrease after april 2020 and remain lower upto the end of 2021.\n",
        "\n",
        "Where as third chart has similar pattern as second one where high death were in the week of march and april in 2020 and it slowly decreased thereafter."
      ]
    },
    {
      "cell_type": "code",
      "metadata": {
        "id": "YDVI0xuz9RfY"
      },
      "source": [
        ""
      ],
      "execution_count": null,
      "outputs": []
    }
  ]
}